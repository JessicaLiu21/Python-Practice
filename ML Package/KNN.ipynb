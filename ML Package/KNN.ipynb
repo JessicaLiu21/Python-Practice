{
 "cells": [
  {
   "cell_type": "markdown",
   "metadata": {},
   "source": [
    "# Problem Set 3, due February 5 at 5:30 pm\n",
    "\n",
    "###Before You Start\n",
    "\n",
    "Make sure the following libraries load correctly (hit Ctrl-Enter). Note that while you are loading several powerful libraries, including machine learning libraries, the goal of this problem set is to implement several algorithms from scratch. In particular, you should *not* be using any built-in libraries for nearest neighbors, distance metrics, or cross-validation -- your mission is to write those algorithms in Python! Parts 1 and 2 will be relatively easy; Part 3 will take more time.\n",
    "\n",
    "*Also note:* For this assignment we are requiring you to use base **matplotlib** - no more Seaborn or other packages. This will help you become familiar with techniques for maintaining fine-grained control over your data visualizations. It will also help our graders, who spent countless hours trying to make various versions import for grading."
   ]
  },
  {
   "cell_type": "code",
   "execution_count": 1,
   "metadata": {
    "collapsed": true
   },
   "outputs": [],
   "source": [
    "import IPython\n",
    "import numpy as np\n",
    "import scipy as sp\n",
    "import pandas as pd\n",
    "import matplotlib\n",
    "import sklearn"
   ]
  },
  {
   "cell_type": "markdown",
   "metadata": {},
   "source": [
    "---\n",
    "\n",
    "## Introduction to the assignment\n",
    "\n",
    "For this assignment, you will be using the Boston Housing Prices Data Set.  This used to be housed by [UCI Machine Learning Repository](http://archive.ics.uci.edu/ml/datasets/Housing), but it is not housed there any more. You can read about it at [Kaggle](https://www.kaggle.com/vikrishnan/boston-house-prices) and at the [University of Toronto](https://www.cs.toronto.edu/~delve/data/boston/bostonDetail.html). Please read about the dataset carefully before continuing.  Use the following commands to load the dataset:\n"
   ]
  },
  {
   "cell_type": "code",
   "execution_count": 2,
   "metadata": {
    "collapsed": true
   },
   "outputs": [],
   "source": [
    "from sklearn.datasets import load_boston\n",
    "bdata = load_boston()"
   ]
  },
  {
   "cell_type": "markdown",
   "metadata": {},
   "source": [
    "The following commands will provide some basic information about the shape of the data:"
   ]
  },
  {
   "cell_type": "code",
   "execution_count": 3,
   "metadata": {},
   "outputs": [
    {
     "name": "stdout",
     "output_type": "stream",
     "text": [
      "dict_keys(['data', 'target', 'feature_names', 'DESCR'])\n",
      "['CRIM' 'ZN' 'INDUS' 'CHAS' 'NOX' 'RM' 'AGE' 'DIS' 'RAD' 'TAX' 'PTRATIO'\n",
      " 'B' 'LSTAT']\n",
      "(506, 13)\n",
      "(506,)\n"
     ]
    }
   ],
   "source": [
    "print(bdata.keys())\n",
    "print (bdata.feature_names)\n",
    "print (bdata.data.shape)\n",
    "print (bdata.target.shape)\n",
    "# uncomment the following if you want to see a lengthy description of the dataset\n",
    "# print bdata.DESCR"
   ]
  },
  {
   "cell_type": "markdown",
   "metadata": {},
   "source": [
    "---\n",
    "\n",
    "##Part 1: Descriptive analysis\n",
    "\n",
    "Before beginning the \"real\" work, dig into the data a bit do see what you're dealing with.  If you feel that you are still in the beginning stages of analyzing data in Python, no problem. That is understandable. Just make sure to read some of the online resources like [this one](https://github.com/jrjohansson/scientific-python-lectures).\n",
    "\n",
    "###1.1: Histogram of housing prices\n",
    "\n",
    "Below you will find some very basic code to make a very basic histogram of median housing prices (the \"target\" variable) for your dataset.  Your first task is to make this graph look pretty by doing the following:\n",
    "\n",
    "1. Add appropriate labels to the x and y axes, make sure to include units\n",
    "2. Change the bin width on the histogram to be $1000\n",
    "3. Remove the axes on the top and right side of the plot window\n",
    "4. Change the color of the bars to be green, and remove the black borders from the bars\n"
   ]
  },
  {
   "cell_type": "code",
   "execution_count": 4,
   "metadata": {},
   "outputs": [
    {
     "data": {
      "image/png": "[encoded data removed]",
      "text/plain": [
       "<matplotlib.figure.Figure at 0x142782d0f98>"
      ]
     },
     "metadata": {},
     "output_type": "display_data"
    }
   ],
   "source": [
    "# prepare your jupyter notebook to work with matplotlib and import the library to something convenient\n",
    "%matplotlib inline  \n",
    "import matplotlib.pyplot as plt  \n",
    "fig, ax = plt.subplots()\n",
    "bins=range(int(min(bdata.target)),int(max(bdata.target)+1), 1)\n",
    "ax.hist(bdata.target,bins,color=['green'],edgecolor = 'white')\n",
    "plt.ylabel('Frequence') # add labels \n",
    "plt.xlabel('Housing Prices')\n",
    "plt.title('The Histogram of Median Value of Home ($1000)')\n",
    "ax.spines['right'].set_visible(False)\n",
    "ax.spines['top'].set_visible(False)\n",
    "plt.show()"
   ]
  },
  {
   "cell_type": "markdown",
   "metadata": {},
   "source": [
    "###1.2: Scatter plot of housing prices and crime\n",
    "\n",
    "Use matplotlib to create a scatter plot that shows the relationship between the median value of the home (y-axis) and the per-capita crime rate (x-axis).  Properly label your axes, and make sure that your graphic looks polished and professional.\n"
   ]
  },
  {
   "cell_type": "code",
   "execution_count": 5,
   "metadata": {},
   "outputs": [
    {
     "data": {
      "image/png": "[encoded data removed]",
      "text/plain": [
       "<matplotlib.figure.Figure at 0x142782d0940>"
      ]
     },
     "metadata": {},
     "output_type": "display_data"
    }
   ],
   "source": [
    "# enter your code below\n",
    "fig, ax=plt.subplots()\n",
    "ax.scatter(bdata.data[:,0],bdata.target)\n",
    "plt.xlim(-1,100)\n",
    "plt.title('Scatter Plot Between Median Value of Home and Per-Capita Crime Rate')\n",
    "plt.xlabel(\"CRIM\")\n",
    "plt.ylabel(\"MEDV\")\n",
    "ax.spines['right'].set_visible(False)\n",
    "ax.spines['top'].set_visible(False)\n",
    "plt.show()"
   ]
  },
  {
   "cell_type": "markdown",
   "metadata": {},
   "source": [
    "###1.3 Create your own (creative and effective) visualization\n",
    "\n",
    "Use another type of graph or chart to illustrate an interesting pattern in the data.  Be creative in your visualization, and make sure to produce a \"publication-quality\" graph.  Points will be given for useful and creative graphs; points will be deducted for confusing issues like unlabeled axes.  If you're new to data visualization, [this guide](http://pubs.aeaweb.org/doi/pdfplus/10.1257/jep.28.1.209) is a good place to start."
   ]
  },
  {
   "cell_type": "code",
   "execution_count": 6,
   "metadata": {},
   "outputs": [
    {
     "name": "stderr",
     "output_type": "stream",
     "text": [
      "C:\\Users\\Jessica\\Anaconda3\\lib\\site-packages\\statsmodels\\compat\\pandas.py:56: FutureWarning: The pandas.core.datetools module is deprecated and will be removed in a future version. Please use the pandas.tseries module instead.\n",
      "  from pandas.core import datetools\n"
     ]
    },
    {
     "name": "stdout",
     "output_type": "stream",
     "text": [
      "Fitting with B\n",
      "[ 34.55384088  -0.95004935]\n"
     ]
    },
    {
     "data": {
      "image/png": "[encoded data removed]",
      "text/plain": [
       "<matplotlib.figure.Figure at 0x1427a64bc88>"
      ]
     },
     "metadata": {},
     "output_type": "display_data"
    }
   ],
   "source": [
    "import statsmodels.formula.api as smf\n",
    "import statsmodels.api as sm\n",
    "data = np.column_stack((bdata.data,bdata.target))\n",
    "fit1 = smf.OLS(data[:,-1], sm.add_constant(data[:,-2])).fit()\n",
    "print(\"Fitting with B\")\n",
    "print (fit1.params)\n",
    "x1 = np.array(range(0,400))\n",
    "y1 = fit1.params[0] + fit1.params[1]*x1\n",
    "plt.figure(figsize = (15,5))\n",
    "scat = plt.scatter(data[:,-2], data[:,-1], color = 'g', alpha = 0.5)\n",
    "plt.xlim([0,50])\n",
    "plt.ylim([-50,50])\n",
    "model1, = plt.plot(x1, y1, linewidth = 1.5)\n",
    "plt.legend([model1,], [\"Model : \\nalpha = 34.55385 \\nbeta = -0.95005\"])\n",
    "plt.xlabel('Median value of owner-occupied homes in $1000 (MEDV) ')\n",
    "plt.ylabel('% lower status of the population (LSTAT)')\n",
    "plt.title('Showing relation of LSTAT with MEDV')\n",
    "plt.show()"
   ]
  },
  {
   "cell_type": "markdown",
   "metadata": {},
   "source": [
    "---\n",
    "\n",
    "##Part 2: Experimental Setup\n",
    "\n",
    "The goal of the next few sections is to design an experiment to predict the median home value for an instance in the data.\n",
    "\n",
    "###2.1 Begin by writing a function to compute the Root Mean Squared Error for a list of numbers\n",
    "\n",
    "You can find the sqrt function in the Numpy package. Furthermore the details of RMSE can be found on [Wikipedia](http://en.wikipedia.org/wiki/Root-mean-square_deviation)\n",
    "\n"
   ]
  },
  {
   "cell_type": "code",
   "execution_count": 7,
   "metadata": {
    "collapsed": true
   },
   "outputs": [],
   "source": [
    "\"\"\"\n",
    "Function\n",
    "--------\n",
    "compute_rmse\n",
    "\n",
    "Given two arrays, one of actual values and one of predicted values,\n",
    "compute the Roote Mean Squared Error\n",
    "\n",
    "Parameters\n",
    "----------\n",
    "predictions : array\n",
    "    Array of numerical values corresponding to predictions for each of the N observations\n",
    "\n",
    "yvalues : array\n",
    "    Array of numerical values corresponding to the actual values for each of the N observations\n",
    "\n",
    "Returns\n",
    "-------\n",
    "rmse : int\n",
    "    Root Mean Squared Error of the prediction\n",
    "\n",
    "Example\n",
    "-------\n",
    ">>> print compute_rmse((2,2,3),(0,2,6)\n",
    "2.16\n",
    "\"\"\"\n",
    "from math import sqrt\n",
    "def compute_rmse(predictions, yvalues):\n",
    "    rmse = 0\n",
    "    for (i,j) in zip(predictions,yvalues):\n",
    "            rmse += pow((i-j),2)\n",
    "    rmse=sqrt(rmse/len(predictions))\n",
    "    return round(rmse,2)\n",
    "   "
   ]
  },
  {
   "cell_type": "code",
   "execution_count": 8,
   "metadata": {},
   "outputs": [
    {
     "data": {
      "text/plain": [
       "2.08"
      ]
     },
     "execution_count": 8,
     "metadata": {},
     "output_type": "execute_result"
    }
   ],
   "source": [
    "compute_rmse((2,2,3),(0,2,6))"
   ]
  },
  {
   "cell_type": "markdown",
   "metadata": {},
   "source": [
    "###2.2 Divide your data into training and testing datasets\n",
    "\n",
    "Randomly select 66% of the data and put this in a training dataset (call this \"bdata_train\"), and place the remaining 34% in a testing dataset (call this \"bdata_test\")\n"
   ]
  },
  {
   "cell_type": "code",
   "execution_count": 9,
   "metadata": {
    "collapsed": true
   },
   "outputs": [],
   "source": [
    "# leave the following line untouched, it will help ensure that your \"random\" split is the same \"random\" split used by the rest of the class\n",
    "import random\n",
    "np.random.seed(seed=13579)\n",
    "boston_df= pd.DataFrame(bdata.data, columns = bdata.feature_names)\n",
    "boston_df['TARGET']= bdata.target\n",
    "# divide data into traindata and test\n",
    "boston_df['RAND'] = boston_df.apply(lambda row: np.random.random(), axis = 1)\n",
    "bdata_train = boston_df[boston_df['RAND'] > 0.34]\n",
    "bdata_test = boston_df[boston_df['RAND'] <= 0.34]"
   ]
  },
  {
   "cell_type": "markdown",
   "metadata": {},
   "source": [
    "###2.3 Use a very bad baseline for prediction, and compute RMSE\n",
    "\n",
    "Create a model that predicts, for every observation x_i, that the median home value is the average (mean) of the median values for all instances in the training set.  Compute the RMSE on the training set.  Now compute the RMSE on the test data set (but use the model you trained on the training set!).  How does RMSE compare for training vs. testing datasets? Is this what you expected, and why?"
   ]
  },
  {
   "cell_type": "code",
   "execution_count": 10,
   "metadata": {},
   "outputs": [
    {
     "name": "stdout",
     "output_type": "stream",
     "text": [
      "Train Data RMSE is 9.87\n",
      "Train Data RMSE is 7.75\n"
     ]
    }
   ],
   "source": [
    "def  average_predict(data):\n",
    "    predict_1=sum(data)/len(data)\n",
    "    predict=np.ones((len(data),1))*predict_1\n",
    "    return predict \n",
    "train_rmse=compute_rmse(average_predict(bdata_train['TARGET']),bdata_train['TARGET'])\n",
    "test_rmse=compute_rmse(average_predict(bdata_test['TARGET']),bdata_test['TARGET'])\n",
    "print(\"Train Data RMSE is \"+ str(train_rmse))\n",
    "print(\"Train Data RMSE is \"+ str(test_rmse))"
   ]
  },
  {
   "cell_type": "markdown",
   "metadata": {},
   "source": [
    "The RMSE for the train data set is higher than that for the test data set, which is not expected. This may be caused by the relatively lower variance within test data itself. "
   ]
  },
  {
   "cell_type": "markdown",
   "metadata": {},
   "source": [
    "---\n",
    "\n",
    "##Part 3: Nearest Neighbors\n"
   ]
  },
  {
   "cell_type": "markdown",
   "metadata": {},
   "source": [
    "###3.1 Nearest Neighbors: Distance function\n",
    "Let's try and build a machine learning algorithm to beat the \"Average Value\" baseline that you computed above.  Soon you will implement the Nearest Neighbor algorithm, but first you need to create a distance metric to measure the distance (and similarity) between two instances.  Write a generic function to compute the L-Norm distance (called the [*p*-norm](http://en.wikipedia.org/wiki/Norm_(mathematics) distance on Wikipedia). Verify that your function works by computing the Euclidean distance between the points (3,4) and (6,8)."
   ]
  },
  {
   "cell_type": "code",
   "execution_count": 11,
   "metadata": {
    "collapsed": true
   },
   "outputs": [],
   "source": [
    "\"\"\"\n",
    "Function\n",
    "--------\n",
    "distance\n",
    "\n",
    "Given two instances and a value for L, return the L-Norm distance between them\n",
    "\n",
    "Parameters\n",
    "----------\n",
    "x1, x2 : array\n",
    "    Array of numerical values corresponding to predictions for each of the N observations\n",
    "\n",
    "L: int\n",
    "    Value of L to use in computing distances\n",
    "\n",
    "Returns\n",
    "-------\n",
    "dist : int\n",
    "    The L-norm distance between instances\n",
    "\n",
    "Example\n",
    "-------\n",
    ">>> print distance((3,4),(6,8),2)\n",
    "7\n",
    "\n",
    "\"\"\"\n",
    "\n",
    "def distance(x1, x2, L):\n",
    "    dist=0\n",
    "    for (i,j) in zip(x1,x2):\n",
    "        dist+=(abs(i-j)**L)\n",
    "    dist=dist**(1/L)\n",
    "    return dist"
   ]
  },
  {
   "cell_type": "code",
   "execution_count": 12,
   "metadata": {},
   "outputs": [
    {
     "data": {
      "text/plain": [
       "5.0"
      ]
     },
     "execution_count": 12,
     "metadata": {},
     "output_type": "execute_result"
    }
   ],
   "source": [
    "distance((3,4),(6,8),2)"
   ]
  },
  {
   "cell_type": "markdown",
   "metadata": {},
   "source": [
    "###3.2 Basic Nearest Neighbor algorithm\n",
    "\n",
    "Now things get fun.  Your task is to implement a basic nearest neighbor algorithm from scratch.  Your simple model will use two input features (CRIM and RM) and a single output (MEDV).  In other words, you are modelling the relationship between median home value and crime rates and house size.\n",
    "\n",
    "Use your training data (bdata_train) to \"fit\" your model, although as you know, with Nearest Neighbors there is no real training, you just need to keep your training data in memory.  Write a function that predicts, for each instance in the testing data (bdata_test), the median home value using the nearest neighbor algorithm we discussed in class.  Since this is a small dataset, you can simply compare your test instance to every instance in the training set, and return the MEDV value of the closest training instance.  Have your function take L as an input, where L is passed to the distance function.\n",
    "\n",
    "Compute the RMSE for the Nearest Neighbor predictions on the test set, using the Euclidean distance.  Report an estimate of the total time taken by your code to predict the nearest neighbors for all the values in the test data set."
   ]
  },
  {
   "cell_type": "code",
   "execution_count": 13,
   "metadata": {},
   "outputs": [
    {
     "name": "stdout",
     "output_type": "stream",
     "text": [
      "Time taken: 0.37 seconds\n",
      "rmse: 6.95\n"
     ]
    },
    {
     "data": {
      "text/plain": [
       "6.95"
      ]
     },
     "execution_count": 13,
     "metadata": {},
     "output_type": "execute_result"
    }
   ],
   "source": [
    "\"\"\"\n",
    "Function\n",
    "--------\n",
    "nneighbor\n",
    "\n",
    "Given four dataset (testx, testu,trainx, trainy ), calculate the nearest neighbor based on testx, trainx and return the RMSE value\n",
    "for the predicted yvalues and actual values.\n",
    "\n",
    "Parameters\n",
    "----------\n",
    "trainx : array\n",
    "    Array of numerical values corresponding to feature values for each of the observations in the training set \n",
    "\n",
    "trainy : array\n",
    "    Array of numerical values corresponding to the actual target values for each of the observations in the training set \n",
    "\n",
    "testx : array\n",
    "    Array of numerical values corresponding to feature values for each of the observations in the testing set \n",
    "\n",
    "testy : array\n",
    "    Array of numerical values corresponding to the actual target values for each of the observations in the testing set \n",
    "    \n",
    "L: int\n",
    "    Value of L to use in computing distances\n",
    "\n",
    "Returns\n",
    "-------\n",
    "rmse: int\n",
    "     Root Mean Squared Error of prediction using the nearest neighbor.\n",
    "\"\"\"\n",
    "trainx=bdata_train[['CRIM', 'RM']].values\n",
    "trainy=bdata_train['TARGET'].values\n",
    "testx=bdata_test[['CRIM', 'RM']].values\n",
    "testy=bdata_test['TARGET'].values\n",
    "L=2\n",
    "import time\n",
    "def nneighbor(trainx, trainy,testx,testy,L):\n",
    "    start_time = time.time()\n",
    "    predictions=[]\n",
    "    for x_test in testx:\n",
    "        distset={}\n",
    "        for x_train, y_train in zip(trainx,trainy):\n",
    "            distset[y_train]=distance(x_train,x_test,L)\n",
    "        prediction=min(distset, key=distset.get)\n",
    "        predictions.append(prediction)\n",
    "    rmse = compute_rmse(predictions, testy)\n",
    "    print(\"Time taken: \" + str(round(time.time() - start_time,2)) + \" seconds\"\n",
    "         )\n",
    "    print(\"rmse: \" + str(round(rmse,2)))\n",
    "    return rmse\n",
    "#     return rmse\n",
    "nneighbor(trainx,trainy,testx,testy,L)"
   ]
  },
  {
   "cell_type": "markdown",
   "metadata": {},
   "source": [
    "###3.3 Results and Normalization\n",
    "\n",
    "If you were being astute, you would have noticed that we never normalized our features -- a big no-no with Nearest Neighbor algorithms.  Write a generic normalization function that takes as input an array of values for a given feature, and returns the normalized array (subtract the mean and divide by the standard deviation).\n",
    "\n",
    "Re-run the Nearest Neighbor algorithm on the normalized dataset (still just using CRIM and RM as input), and compare the RMSE from this method with your previous RMSE evaluations.\n",
    "\n",
    "*NOTE*: To normalize properly, best practice is to compute the mean and standard deviation on the training set, and use these values to normalize the testing dataset. However, for this problem set, it is okay if you separately normalize each dataset using the respective mean and standard deviation."
   ]
  },
  {
   "cell_type": "code",
   "execution_count": 14,
   "metadata": {},
   "outputs": [
    {
     "name": "stdout",
     "output_type": "stream",
     "text": [
      "Time taken: 0.33 seconds\n",
      "rmse: 7.43\n"
     ]
    },
    {
     "data": {
      "text/plain": [
       "7.43"
      ]
     },
     "execution_count": 14,
     "metadata": {},
     "output_type": "execute_result"
    }
   ],
   "source": [
    "\"\"\"\n",
    "Function\n",
    "--------\n",
    "normalize\n",
    "\n",
    "Given two arrays, return the normalized array of the first array based on the SD value and mean value of  the second array. \n",
    "\n",
    "Parameters\n",
    "----------\n",
    "raw_data : array\n",
    "    an array needs to be normalized\n",
    "norm: array\n",
    "    an array to calculate its SD and mean for the use of the first array\n",
    "    \n",
    "Returns\n",
    "-------\n",
    "data : array\n",
    "    normalized array\n",
    "\"\"\"\n",
    "# define the normalize function \n",
    "def normalize(raw_data,norm):\n",
    "    normalized_data=[]\n",
    "    SD=np.std(norm, axis=0)\n",
    "    mean=np.mean(norm,axis=0)\n",
    "    for i in raw_data:\n",
    "        normal_data=(i-mean)/SD\n",
    "        normalized_data.append(normal_data)\n",
    "    return normalized_data\n",
    "# For the convenience of future calculation, define the normalize_neighbor to calculate the RMSE for normalized data.  \n",
    "\"\"\"\n",
    "Function\n",
    "--------\n",
    "normalize_neighbor\n",
    "\n",
    "Given four arrays, x_train,y_train,x_test,y_test, normalize the data and then compute the root mean squared error of prediction using the nearest neighbor.\n",
    "\n",
    "Parameters\n",
    "----------\n",
    "x_train : array\n",
    "    Numerical values corresponding to feature values in the training set \n",
    "\n",
    "y_train : array\n",
    "    Numerical values corresponding to the actual target values in the training set \n",
    "\n",
    "x_test : array\n",
    "    Numerical values corresponding to feature values in the testing set \n",
    "\n",
    "y_test : array\n",
    "    Numerical values corresponding to the actual target values in the testing set \n",
    "    \n",
    "L: int\n",
    "    Value of L to use in computing distances\n",
    "\n",
    "Returns\n",
    "-------\n",
    "rmse: int\n",
    "     Root Mean Squared Error of prediction using the nearest neighbor.\n",
    "\"\"\"\n",
    "def normalize_neighbor(x_train, y_train, x_test, y_test, L):\n",
    "    x_train_normalized = normalize(x_train,x_train)\n",
    "    x_test_normalized = normalize(x_test,x_train)\n",
    "    y_train_normalized = y_train\n",
    "    y_test_normalized = y_test\n",
    "    return nneighbor(x_train_normalized, y_train_normalized, \n",
    "                     x_test_normalized, y_test_normalized, L)\n",
    "\n",
    "normalize_neighbor(trainx, trainy, testx, testy, 2)"
   ]
  },
  {
   "cell_type": "markdown",
   "metadata": {},
   "source": [
    "I used train data to compute the mean and standard deviation on the training data and use these values to normalize the test dataset. \n",
    "From the output, I found the RMSE of the normalized dataset is higher than that in the original data set. "
   ]
  },
  {
   "cell_type": "markdown",
   "metadata": {},
   "source": [
    "###3.4 Optimization\n",
    "\n",
    "A lot of the decisions we've made so far have been arbitrary.  Try to increase the performance of your nearest neighbor algorithm by adding features that you think might be relevant, and by using different values of L in the distance function.  Try a model that uses a different set of 2 features, then try at least one model that uses more than 4 features, then try using a different value of L.  If you're having fun, try a few different combinations of features and L!\n",
    "\n",
    "What combination of features and distance function provide the lowest RMSE?  Do your decisions affect the running time of the algorithm?"
   ]
  },
  {
   "cell_type": "code",
   "execution_count": 15,
   "metadata": {},
   "outputs": [
    {
     "name": "stdout",
     "output_type": "stream",
     "text": [
      "Time taken: 0.33 seconds\n",
      "rmse: 7.43\n",
      "Features: ['CRIM', 'RM'], L = 2\n",
      ", rmse=7.43\n",
      "Time taken: 0.37 seconds\n",
      "rmse: 7.27\n",
      "Features: ['CRIM', 'RM'], L = 4\n",
      ", rmse=7.27\n",
      "Time taken: 0.42 seconds\n",
      "rmse: 5.59\n",
      "Features: ['CRIM', 'RM', 'LSTAT'], L = 2\n",
      ", rmse=5.59\n",
      "Time taken: 0.41 seconds\n",
      "rmse: 5.97\n",
      "Features: ['CRIM', 'RM', 'LSTAT'], L = 4\n",
      ", rmse=5.97\n",
      "Time taken: 0.46 seconds\n",
      "rmse: 5.44\n",
      "Features: ['CRIM', 'RM', 'LSTAT', 'B'], L = 2\n",
      ", rmse=5.44\n",
      "Time taken: 0.45 seconds\n",
      "rmse: 5.46\n",
      "Features: ['CRIM', 'RM', 'LSTAT', 'B'], L = 4\n",
      ", rmse=5.46\n",
      "Time taken: 0.58 seconds\n",
      "rmse: 5.47\n",
      "Features: ['CRIM', 'RM', 'LSTAT', 'B', 'LSTAT'], L = 2\n",
      ", rmse=5.47\n",
      "Time taken: 0.58 seconds\n",
      "rmse: 5.55\n",
      "Features: ['CRIM', 'RM', 'LSTAT', 'B', 'LSTAT'], L = 4\n",
      ", rmse=5.55\n"
     ]
    },
    {
     "data": {
      "text/plain": [
       "5.55"
      ]
     },
     "execution_count": 15,
     "metadata": {},
     "output_type": "execute_result"
    }
   ],
   "source": [
    "# enter your code here\n",
    "\n",
    "def optimal_nneighbor(bdata_train, bdata_test, features, L):\n",
    "    x_train = bdata_train[features].values\n",
    "    y_train = bdata_train['TARGET'].values\n",
    "    x_test = bdata_test[features].values\n",
    "    y_test = bdata_test['TARGET'].values\n",
    "    rmse = normalize_neighbor(x_train, y_train, x_test, y_test, L)\n",
    "    print(\"Features: \" + str(features) + \", L = \" + str(L) + \"\\n\"+\", rmse=\"+str(rmse))\n",
    "    return rmse\n",
    "\n",
    "features = ['CRIM', 'RM']\n",
    "L = 2\n",
    "optimal_nneighbor(bdata_train, bdata_test, features, L)\n",
    "\n",
    "features = ['CRIM', 'RM']\n",
    "L = 4\n",
    "optimal_nneighbor(bdata_train, bdata_test, features, L)\n",
    "\n",
    "features = ['CRIM', 'RM', 'LSTAT']\n",
    "L = 2\n",
    "optimal_nneighbor(bdata_train, bdata_test, features, L)\n",
    "\n",
    "features = ['CRIM', 'RM', 'LSTAT']\n",
    "L = 4\n",
    "optimal_nneighbor(bdata_train, bdata_test, features, L)\n",
    "\n",
    "features = ['CRIM', 'RM', 'LSTAT', 'B']\n",
    "L = 2\n",
    "optimal_nneighbor(bdata_train, bdata_test, features, L)\n",
    "\n",
    "features = ['CRIM', 'RM', 'LSTAT', 'B']\n",
    "L = 4\n",
    "optimal_nneighbor(bdata_train, bdata_test, features, L)\n",
    "\n",
    "L = 2\n",
    "features = ['CRIM', 'RM', 'LSTAT', 'B','LSTAT']\n",
    "optimal_nneighbor(bdata_train, bdata_test, features, L)\n",
    "\n",
    "L = 4\n",
    "features = ['CRIM', 'RM', 'LSTAT', 'B','LSTAT']\n",
    "optimal_nneighbor(bdata_train, bdata_test, features, L)"
   ]
  },
  {
   "cell_type": "markdown",
   "metadata": {},
   "source": [
    "From the output, we could find that when we increase the number of L,the calculation time will slightly increase.\n",
    "The RMSE has no big difference based on different L values with same features. \n",
    "But as we increase the number of features, the RMSE is on the decrease trend. "
   ]
  },
  {
   "cell_type": "markdown",
   "metadata": {},
   "source": [
    "### 3.5 Cross-Validation\n",
    "\n",
    "The more you tinkered with your features and distance function, the higher the risk that you overfit your training data.  To prevent this sort of overfitting, you need to use cross-validation (see K-fold [cross-validation](http://en.wikipedia.org/wiki/Cross-validation_(statistics)).  Here you must implement a simple k-fold cross-validation algorithm yourself.  The function you write here will be used several more times in this problem set, so do your best to write efficient code! (Note that the sklearn package has a built-in [K-fold](http://scikit-learn.org/stable/modules/cross_validation.html#cross-validation) iterator -- you should *not* be invoking that or any related algorithms in this section of the problem set.)\n",
    "\n",
    "Use 10-fold cross-validation and report the average RMSE for Nearest Neighbors using Euclidean distance with CRIM and RM input features, as well as the total running time for the full run of 10 folds.  In other words, randomly divide your dataset into 10 equally-sized samples, and for each of 10 iterations (the \"folds\"), use 9 samples as \"training data\" (even though there is no training in k-NN!), and the remaining 1 sample for testing.  Compute the RMSE of that particular test set, then move on to the next iteration.  Report the average RMSE across the 10 iterations."
   ]
  },
  {
   "cell_type": "code",
   "execution_count": 17,
   "metadata": {
    "scrolled": true
   },
   "outputs": [
    {
     "name": "stdout",
     "output_type": "stream",
     "text": [
      "Time taken: 0.1 seconds\n",
      "rmse: 7.77\n",
      "Features: ['CRIM', 'RM'], L = 2\n",
      ", rmse=7.77\n",
      "Time taken: 0.15 seconds\n",
      "rmse: 5.61\n",
      "Features: ['CRIM', 'RM'], L = 2\n",
      ", rmse=5.61\n",
      "Time taken: 0.16 seconds\n",
      "rmse: 4.49\n",
      "Features: ['CRIM', 'RM'], L = 2\n",
      ", rmse=4.49\n",
      "Time taken: 0.14 seconds\n",
      "rmse: 8.83\n",
      "Features: ['CRIM', 'RM'], L = 2\n",
      ", rmse=8.83\n",
      "Time taken: 0.13 seconds\n",
      "rmse: 6.97\n",
      "Features: ['CRIM', 'RM'], L = 2\n",
      ", rmse=6.97\n",
      "Time taken: 0.13 seconds\n",
      "rmse: 5.35\n",
      "Features: ['CRIM', 'RM'], L = 2\n",
      ", rmse=5.35\n",
      "Time taken: 0.13 seconds\n",
      "rmse: 4.84\n",
      "Features: ['CRIM', 'RM'], L = 2\n",
      ", rmse=4.84\n",
      "Time taken: 0.16 seconds\n",
      "rmse: 5.33\n",
      "Features: ['CRIM', 'RM'], L = 2\n",
      ", rmse=5.33\n",
      "Time taken: 0.13 seconds\n",
      "rmse: 4.88\n",
      "Features: ['CRIM', 'RM'], L = 2\n",
      ", rmse=4.88\n",
      "Time taken: 0.12 seconds\n",
      "rmse: 5.51\n",
      "Features: ['CRIM', 'RM'], L = 2\n",
      ", rmse=5.51\n"
     ]
    },
    {
     "data": {
      "text/plain": [
       "5.958"
      ]
     },
     "execution_count": 17,
     "metadata": {},
     "output_type": "execute_result"
    }
   ],
   "source": [
    "# enter your code here\n",
    "# Creating functions to get indices of k-fold data\n",
    "# enter your code here\n",
    "K_folds = 10\n",
    "\n",
    "def DIVIDE_INTO_KFOLD(data, K_folds):\n",
    "    np.random.seed(seed=13579)\n",
    "    data['RAND'] = data.apply(lambda row: np.random.random(), axis = 1)\n",
    "    data_set = []\n",
    "    for k in np.arange(K_folds)+1:\n",
    "        temp = data[(data['RAND'] < k*(1/K_folds)) & (data['RAND'] >= (k-1)*(1/K_folds))]\n",
    "        data_set.append(temp)\n",
    "    return data_set\n",
    "\n",
    "def AVERAGE_RMSE(K_folds, folds, features, L):\n",
    "    averages = []\n",
    "    for i in np.arange(K_folds):\n",
    "        temp = folds.copy()\n",
    "        test = temp.pop(i)\n",
    "        train = pd.concat(temp)\n",
    "        averages.append(optimal_nneighbor(train, test, features, L))\n",
    "    return sum(averages)/len(averages)\n",
    "\n",
    "def K_FOLD_TEST(data, K_folds, features, L):\n",
    "    folds = DIVIDE_INTO_KFOLD(data, K_folds)\n",
    "    average_rmse = AVERAGE_RMSE(K_folds, folds, features, L)\n",
    "    return average_rmse\n",
    "    \n",
    "K_FOLD_TEST(boston_df,K_folds,['CRIM', 'RM'],2)\n",
    "    "
   ]
  },
  {
   "cell_type": "markdown",
   "metadata": {},
   "source": [
    "###3.6 K-Nearest Neighbors Algorithm\n",
    "\n",
    "Implement the K-Nearest Neighbors algorithm.  Using 10-fold cross validation, report the RMSE for K=3 and the running time of the algorithm."
   ]
  },
  {
   "cell_type": "code",
   "execution_count": 18,
   "metadata": {},
   "outputs": [
    {
     "data": {
      "text/plain": [
       "5.468999999999999"
      ]
     },
     "execution_count": 18,
     "metadata": {},
     "output_type": "execute_result"
    }
   ],
   "source": [
    "\"\"\"\n",
    "Function\n",
    "--------\n",
    "KNN\n",
    "\n",
    "Given four arrays, x_train,y_train,x_test,y_test, this function predicts the 'target' based on the average of the \n",
    "    K nearest neighbors from the training set (x_train, y_train) and returns the RMSE between y_test and predicted values.\n",
    "\n",
    "Parameters\n",
    "----------\n",
    "x_train : array\n",
    "    Numerical values corresponding to feature values in the training set \n",
    "\n",
    "y_train : array\n",
    "    Numerical values corresponding to the actual target values  in the training set \n",
    "\n",
    "x_test : array\n",
    "    Numerical values corresponding to feature values  in the testing set \n",
    "\n",
    "y_test : array\n",
    "    Numerical values corresponding to the actual target values in the testing set \n",
    "    \n",
    "L: int\n",
    "    Value of L to use in computing distances\n",
    "    \n",
    "K: int \n",
    "    Value of nearest numbers for algorithm \n",
    "    \n",
    "Returns\n",
    "-------\n",
    "rmse: int\n",
    "     Root Mean Squared Error of prediction using the nearest neighbor.\n",
    "\"\"\"\n",
    "def KNN(x_train, y_train, x_test, y_test, L, K):\n",
    "    start_time = time.time()\n",
    "    predictions = []\n",
    "    for x_test_i in x_test:\n",
    "        dist_set= {}\n",
    "        for x_train_i, y_train_i in zip(x_train, y_train):\n",
    "            dist_set[y_train_i] = distance(x_train_i, x_test_i, L)\n",
    "        neighbor_values = []\n",
    "        for i in np.arange(K):\n",
    "            neighbor_value = min(dist_set, key = dist_set.get)\n",
    "            neighbor_values.append(neighbor_value)\n",
    "            dist_set.pop(neighbor_value, None)\n",
    "        prediction = sum(neighbor_values)/len(neighbor_values)\n",
    "        predictions.append(prediction)\n",
    "    \n",
    "    rmse = compute_rmse(predictions, y_test)\n",
    "    return rmse\n",
    "\n",
    "def Normalize_KNN(x_train, y_train, x_test, y_test, L, K):\n",
    "    x_train_normalized = normalize(x_train,x_train)\n",
    "    x_test_normalized = normalize(x_test,x_train)\n",
    "    y_train_normalized = y_train\n",
    "    y_test_normalized = y_test\n",
    "    return KNN(x_train_normalized, y_train_normalized, \n",
    "                     x_test_normalized, y_test_normalized, L, K)\n",
    "\n",
    "def CALC_KNN(bdata_train, bdata_test, features, L, K):\n",
    "    x_train = bdata_train[features].values\n",
    "    y_train = bdata_train['TARGET'].values\n",
    "    x_test = bdata_test[features].values\n",
    "    y_test = bdata_test['TARGET'].values\n",
    "    rmse = Normalize_KNN(x_train, y_train, x_test, y_test, L, K)\n",
    "    return rmse\n",
    "\n",
    "def AVG_RMSE(Kfolds, folds, features, L, K):\n",
    "    averages = []\n",
    "    for i in np.arange(Kfolds):\n",
    "        temp = folds.copy()\n",
    "        test = temp.pop(i)\n",
    "        train = pd.concat(temp)\n",
    "        averages.append(CALC_KNN(train, test, features, L, K))\n",
    "    return sum(averages)/len(averages)\n",
    "\n",
    "def K_fold(df, Kfolds, features, L, K):\n",
    "    folds = DIVIDE_INTO_KFOLD(df, Kfolds)\n",
    "    average_rmse =AVG_RMSE(Kfolds, folds, features, L, K)\n",
    "    return average_rmse\n",
    "    \n",
    "\n",
    "# enter your additional code here\n",
    "features = ['CRIM', 'RM']\n",
    "L = 2\n",
    "K = 3\n",
    "Kfolds=10\n",
    "K_fold(boston_df, Kfolds, features, L, K)\n",
    "#normalized_knn(x_train, y_train, x_test, y_test, L, K)\n",
    "# enter your additional code here"
   ]
  },
  {
   "cell_type": "markdown",
   "metadata": {},
   "source": [
    "###3.7 Using cross validation to find K\n",
    "\n",
    "What is the best choice of K?  Compute the RMSE for values of K between 1 and 25 using 10-fold cross-validation.  Use the following features in your model, and don't forget to normalize: CRIM, ZN, RM, AGE, DIS, TAX.  Create a graph that shows how RMSE changes as K increases from 1 to 25.  Label your axes, and summarize what you see.  What do you think is a reasonable choice of K for this model?"
   ]
  },
  {
   "cell_type": "code",
   "execution_count": 19,
   "metadata": {},
   "outputs": [
    {
     "data": {
      "image/png": "[encoded data removed]",
      "text/plain": [
       "<matplotlib.figure.Figure at 0x14278d4e358>"
      ]
     },
     "metadata": {},
     "output_type": "display_data"
    }
   ],
   "source": [
    "# enter your code here\n",
    "# enter your code here\n",
    "features = ['CRIM', 'ZN', 'RM', 'AGE', 'DIS', 'TAX']\n",
    "rmses = []\n",
    "for K in np.arange(24)+1:\n",
    "    rmse = K_fold(boston_df, Kfolds, features, L, K)\n",
    "    rmses.append(rmse)\n",
    "fig, ax = plt.subplots()\n",
    "ax.spines['right'].set_visible(False)\n",
    "ax.spines['top'].set_visible(False)\n",
    "x = np.arange(24)+1\n",
    "y = rmses\n",
    "ax.scatter(x, y)\n",
    "plt.xlabel('K Value')\n",
    "plt.ylabel('Average RMSE')\n",
    "plt.show()"
   ]
  },
  {
   "cell_type": "markdown",
   "metadata": {},
   "source": [
    "From the output, we could find K=4 will be the optimal K-value for this model. "
   ]
  },
  {
   "cell_type": "code",
   "execution_count": null,
   "metadata": {
    "collapsed": true
   },
   "outputs": [],
   "source": []
  }
 ],
 "metadata": {
  "kernelspec": {
   "display_name": "Python 3",
   "language": "python",
   "name": "python3"
  },
  "language_info": {
   "codemirror_mode": {
    "name": "ipython",
    "version": 3
   },
   "file_extension": ".py",
   "mimetype": "text/x-python",
   "name": "python",
   "nbconvert_exporter": "python",
   "pygments_lexer": "ipython3",
   "version": "3.7.3"
  }
 },
 "nbformat": 4,
 "nbformat_minor": 1
}
